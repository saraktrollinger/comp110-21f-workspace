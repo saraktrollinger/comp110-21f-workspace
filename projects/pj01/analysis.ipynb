{
 "cells": [
  {
   "cell_type": "markdown",
   "source": [
    "# Project 01\n",
    "## My hypothesis: There are less students majoring (BA or BS) or minoring in computer science than students not majoring in computer science in this class."
   ],
   "metadata": {}
  },
  {
   "cell_type": "code",
   "execution_count": 6,
   "source": [
    "__author__ = \"730393060\""
   ],
   "outputs": [],
   "metadata": {}
  },
  {
   "cell_type": "markdown",
   "source": [
    "### The first step of my project is to to read in the csv and turn it into column-oriented data tables."
   ],
   "metadata": {}
  },
  {
   "cell_type": "code",
   "execution_count": 5,
   "source": [
    "%reload_ext autoreload\n",
    "%autoreload 2\n",
    "\n",
    "from data_utils import read_csv_rows, columnar\n",
    "\n",
    "data_rows: list[dict[str, str]] = read_csv_rows('../../data/survey.csv')\n",
    "columns: dict[str, list[str]] = columnar(data_rows)"
   ],
   "outputs": [],
   "metadata": {}
  },
  {
   "cell_type": "markdown",
   "source": [
    "### The second step of my project is selecting just the section column for major. The first five rows are printed below:"
   ],
   "metadata": {}
  },
  {
   "cell_type": "code",
   "execution_count": 10,
   "source": [
    "from data_utils import head, select\n",
    "subset: dict[str, list[str]] = select(columns, [\"primary_major\"])\n",
    "head(subset, 5)"
   ],
   "outputs": [
    {
     "output_type": "execute_result",
     "data": {
      "text/plain": [
       "{'primary_major': ['Advertising and Public Relations',\n",
       "  'Anthropology',\n",
       "  'Biology',\n",
       "  'Biology',\n",
       "  'Biology']}"
      ]
     },
     "metadata": {},
     "execution_count": 10
    }
   ],
   "metadata": {}
  },
  {
   "cell_type": "markdown",
   "source": [
    "### The third step of my project is to count up the totals of each of the different majors. They are printed below:"
   ],
   "metadata": {}
  },
  {
   "cell_type": "code",
   "execution_count": 44,
   "source": [
    "from data_utils import count\n",
    "counts = count(subset[\"primary_major\"])\n",
    "\n",
    "print(f\"Advertising And Public Relations total is: {counts['Advertising and Public Relations']}\")\n",
    "print(f\"Anthropology total is: {counts['Anthropology']}\")\n",
    "print(f\"Biology total is: {counts['Biology']}\")\n",
    "print(f\"Biostatistics total is: {counts['Biostatistics']}\")\n",
    "print(f\"Business total is: {counts['Business']}\")\n",
    "print(f\"Chemistry total is: {counts['Chemistry']}\")\n",
    "print(f\"Communications total is: {counts['Communications']}\")\n",
    "print(f\"Computer Science total is: {counts['Computer Science']}\")\n",
    "print(f\"Economics total is: {counts['Economics']}\")\n",
    "print(f\"English total is: {counts['English']}\")\n",
    "print(f\"Environmental Science total is: {counts['Environmental Science']}\")\n",
    "print(f\"Exercise and Sports Science total is: {counts['Exercise and Sports Science']}\")\n",
    "print(f\"Geology total is: {counts['Geology']}\")\n",
    "print(f\"Health Policy and Management total is: {counts['Health Policy and Management']}\")\n",
    "print(f\"History total is: {counts['History']}\")\n",
    "print(f\"Information Science total is: {counts['Information Science']}\")\n",
    "print(f\"Journalism total is: {counts['Journalism']}\")\n",
    "print(f\"Math total is: {counts['Math']}\")\n",
    "print(f\"Neuroscience total is: {counts['Neuroscience']}\")\n",
    "print(f\"Nursing total is: {counts['Nursing']}\")\n",
    "print(f\"Nutrition total is: {counts['Nutrition']}\")\n",
    "print(f\"Peace, War, and Defense total is: {counts['Peace, War, and Defense']}\")\n",
    "print(f\"Physics total is: {counts['Physics']}\")\n",
    "print(f\"Political Science total is: {counts['Political Science']}\")\n",
    "print(f\"Psychology total is: {counts['Psychology']}\")\n",
    "print(f\"Public Health total is: {counts['Public Health']}\")\n",
    "print(f\"Sociology total is: {counts['Sociology']}\")\n",
    "print(f\"Spanish total is: {counts['Spanish']}\")\n",
    "print(f\"Statistics total is: {counts['Statistics']}\")\n",
    "print(f\"Undecided total is: {counts['Undecided']}\")"
   ],
   "outputs": [
    {
     "output_type": "stream",
     "name": "stdout",
     "text": [
      "Advertising And Public Relations total is: 1\n",
      "Anthropology total is: 1\n",
      "Biology total is: 59\n",
      "Biostatistics total is: 6\n",
      "Business total is: 51\n",
      "Chemistry total is: 5\n",
      "Communications total is: 3\n",
      "Computer Science total is: 119\n",
      "Economics total is: 42\n",
      "English total is: 3\n",
      "Environmental Science total is: 14\n",
      "Exercise and Sports Science total is: 7\n",
      "Geology total is: 1\n",
      "Health Policy and Management total is: 3\n",
      "History total is: 3\n",
      "Information Science total is: 14\n",
      "Journalism total is: 6\n",
      "Math total is: 7\n",
      "Neuroscience total is: 33\n",
      "Nursing total is: 2\n",
      "Nutrition total is: 2\n",
      "Peace, War, and Defense total is: 5\n",
      "Physics total is: 4\n",
      "Political Science total is: 5\n",
      "Psychology total is: 38\n",
      "Public Health total is: 3\n",
      "Sociology total is: 1\n",
      "Spanish total is: 1\n",
      "Statistics total is: 8\n",
      "Undecided total is: 18\n"
     ]
    }
   ],
   "metadata": {}
  },
  {
   "cell_type": "markdown",
   "source": [
    "### The fourth step is to count up all the non-computer science majors and compare the two totals."
   ],
   "metadata": {}
  },
  {
   "cell_type": "code",
   "execution_count": 75,
   "source": [
    "from data_utils import count_again\n",
    "counts = count(subset[\"primary_major\"])\n",
    "\n",
    "print(f\"Computer Science total is: {counts['Computer Science']}\")\n",
    "print(f\"Other total is: {counts['Advertising and Public Relations'] + counts['Anthropology'] + counts['Biology'] + counts['Biostatistics'] + counts['Business'] + counts['Chemistry'] + counts['Communications'] + counts['Economics'] + counts['English'] + counts['Environmental Science'] + counts['Exercise and Sports Science'] + counts['Geology'] + counts['Health Policy and Management'] + counts['History'] + counts['Information Science'] + counts['Journalism'] + counts['Math'] + counts['Neuroscience'] + counts['Nursing'] + counts['Nutrition'] + counts['Peace, War, and Defense'] + counts['Physics'] + counts['Political Science'] + counts['Psychology'] + counts['Public Health'] + counts['Sociology'] + counts['Spanish'] + counts['Statistics'] + counts['Undecided']}\")"
   ],
   "outputs": [
    {
     "output_type": "stream",
     "name": "stdout",
     "text": [
      "Computer Science total is: 119\n",
      "Other total is: 346\n"
     ]
    }
   ],
   "metadata": {}
  },
  {
   "cell_type": "markdown",
   "source": [
    "## Conclusion\n",
    "\n",
    "### There are almost three times as many students not majoring in computer science as those who are in COMP110. I thought this would be the case because many majors require this course because it is so important!"
   ],
   "metadata": {}
  }
 ],
 "metadata": {
  "orig_nbformat": 4,
  "language_info": {
   "name": "python",
   "version": "3.9.6",
   "mimetype": "text/x-python",
   "codemirror_mode": {
    "name": "ipython",
    "version": 3
   },
   "pygments_lexer": "ipython3",
   "nbconvert_exporter": "python",
   "file_extension": ".py"
  },
  "kernelspec": {
   "name": "python3",
   "display_name": "Python 3.9.6 64-bit"
  },
  "interpreter": {
   "hash": "aee8b7b246df8f9039afb4144a1f6fd8d2ca17a180786b69acc140d282b71a49"
  }
 },
 "nbformat": 4,
 "nbformat_minor": 2
}